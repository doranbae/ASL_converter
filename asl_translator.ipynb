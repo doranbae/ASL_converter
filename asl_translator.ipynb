{
 "cells": [
  {
   "cell_type": "markdown",
   "metadata": {},
   "source": [
    "# ASL Translator\n",
    "This notebook uses ASL grammar rule to translate English sentence to potential Imagese. "
   ]
  },
  {
   "cell_type": "markdown",
   "metadata": {},
   "source": [
    "## Important ASL grammar rules to apply to ASL translator.\n",
    "* Drop all *be* verbs (am, is, are, was, were) and articles (a, the).\n",
    "* [Topicalization](http://www.lifeprint.com/asl101/pages-layout/grammar.htm): Object, Subject Verb Order\n",
    "* Time information at the beginning of the sentence\n",
    "</br> \n",
    "</br>\n",
    "*Disclaimer: The intention of this notebook is not to 100% replicate ASL grammars. The purpose of this notebook is to transform English sentence into a visual language form."
   ]
  },
  {
   "cell_type": "markdown",
   "metadata": {},
   "source": [
    "## Extract time information"
   ]
  },
  {
   "cell_type": "markdown",
   "metadata": {},
   "source": [
    "In order to get time information, I have used Groningen Meaning Bank (GMB) corpus to train a model to extract time information. For example:"
   ]
  },
  {
   "cell_type": "markdown",
   "metadata": {},
   "source": [
    "![Sample](sample_image/time_chunker_ex.png)"
   ]
  },
  {
   "cell_type": "markdown",
   "metadata": {},
   "source": [
    "This useful model can extract both time and location as well. Right now, I am only using time information (I did not find specific guideline on how to handle location/geo information in ASL grammar)"
   ]
  },
  {
   "cell_type": "markdown",
   "metadata": {},
   "source": [
    "## Extract topic information"
   ]
  },
  {
   "cell_type": "markdown",
   "metadata": {},
   "source": [
    "Extracting topic information was a little trickier. For starter, I trained a chunker model to chunk sentences into meaningful bits. For example:"
   ]
  },
  {
   "cell_type": "markdown",
   "metadata": {},
   "source": [
    "![Sample_2](sample_image/chunk_text.png)\n",
    "![Sample_2.5](sample_image/chunk_img.png)"
   ]
  },
  {
   "cell_type": "markdown",
   "metadata": {},
   "source": [
    "## Change sentence orders based on ASL grammar rules. Let's see a sample sentence."
   ]
  },
  {
   "cell_type": "markdown",
   "metadata": {},
   "source": [
    "![Sample_3](sample_image/asl.png)"
   ]
  },
  {
   "cell_type": "markdown",
   "metadata": {},
   "source": [
    "This is a great example, since the English sentence, \"I covered my ears on Friday, because baby cried too loud\", has both time information and topic information. As stated before, we want to order the time information in the beginning. Next in order is topic information, and the rest. "
   ]
  },
  {
   "cell_type": "markdown",
   "metadata": {},
   "source": [
    "### How did I know in which order to place words? I used matrix to rank word orders"
   ]
  },
  {
   "cell_type": "markdown",
   "metadata": {},
   "source": [
    "For example, I created numpy arrays for each word in a sentence. For a given word, if that word is important, I gave it a score (between 1 and 2 for simplicy). The result looks like this.\n",
    "![sample_4](sample_image/word_score.png)"
   ]
  },
  {
   "cell_type": "markdown",
   "metadata": {},
   "source": [
    "According to the above matrix, **(Friday, NNP)** has the highest score, thus it should be placed in the front. **(covered, VBD)**, a leading word in Verb Phrase (VP), will be second in rank."
   ]
  },
  {
   "cell_type": "markdown",
   "metadata": {},
   "source": [
    "This is the final output.\n",
    "![sample_4](sample_image/pic_sen.png)"
   ]
  },
  {
   "cell_type": "markdown",
   "metadata": {},
   "source": [
    "## Limitations and future works"
   ]
  },
  {
   "cell_type": "markdown",
   "metadata": {},
   "source": [
    "If I had more time and resource, I think I can improve this by:\n",
    "* Display tone/mood in the picture: Many visual languages rely on speaker's facial expression or overly animaged hand gestures to communicate mood or tone. \n",
    "* Handle preposition words in a picture (eg. IN, ON, BETWEEN words can be better communicated)"
   ]
  },
  {
   "cell_type": "markdown",
   "metadata": {},
   "source": [
    "Reference:\n",
    "https://www.ling.upenn.edu/courses/Fall_2003/ling001/penn_treebank_pos.html"
   ]
  },
  {
   "cell_type": "code",
   "execution_count": null,
   "metadata": {},
   "outputs": [],
   "source": []
  }
 ],
 "metadata": {
  "kernelspec": {
   "display_name": "Python 3",
   "language": "python",
   "name": "python3"
  },
  "language_info": {
   "codemirror_mode": {
    "name": "ipython",
    "version": 3
   },
   "file_extension": ".py",
   "mimetype": "text/x-python",
   "name": "python",
   "nbconvert_exporter": "python",
   "pygments_lexer": "ipython3",
   "version": "3.4.5"
  }
 },
 "nbformat": 4,
 "nbformat_minor": 2
}
